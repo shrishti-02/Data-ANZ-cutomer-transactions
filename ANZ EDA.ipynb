{
 "cells": [
  {
   "cell_type": "code",
   "execution_count": 263,
   "metadata": {},
   "outputs": [],
   "source": [
    "import numpy as np\n",
    "import pandas as pd\n",
    "import matplotlib.pyplot as plt\n",
    "from sklearn.linear_model import LinearRegression\n",
    "from sklearn.tree import DecisionTreeClassifier, DecisionTreeRegressor"
   ]
  },
  {
   "cell_type": "code",
   "execution_count": 264,
   "metadata": {},
   "outputs": [],
   "source": [
    "df = pd.read_csv('ANZ.csv')"
   ]
  },
  {
   "cell_type": "code",
   "execution_count": 265,
   "metadata": {},
   "outputs": [
    {
     "data": {
      "text/plain": [
       "status                object\n",
       "card_present_flag    float64\n",
       "bpay_biller_code      object\n",
       "account               object\n",
       "currency              object\n",
       "long_lat              object\n",
       "txn_description       object\n",
       "merchant_id           object\n",
       "merchant_code        float64\n",
       "first_name            object\n",
       "balance              float64\n",
       "date                  object\n",
       "gender                object\n",
       "age                    int64\n",
       "merchant_suburb       object\n",
       "merchant_state        object\n",
       "extraction            object\n",
       "amount               float64\n",
       "transaction_id        object\n",
       "country               object\n",
       "customer_id           object\n",
       "merchant_long_lat     object\n",
       "movement              object\n",
       "dtype: object"
      ]
     },
     "execution_count": 265,
     "metadata": {},
     "output_type": "execute_result"
    }
   ],
   "source": [
    "df.dtypes"
   ]
  },
  {
   "cell_type": "code",
   "execution_count": 266,
   "metadata": {},
   "outputs": [
    {
     "data": {
      "text/plain": [
       "(12043, 23)"
      ]
     },
     "execution_count": 266,
     "metadata": {},
     "output_type": "execute_result"
    }
   ],
   "source": [
    "df.shape"
   ]
  },
  {
   "cell_type": "code",
   "execution_count": 267,
   "metadata": {},
   "outputs": [
    {
     "data": {
      "text/plain": [
       "status                   0\n",
       "card_present_flag     4326\n",
       "bpay_biller_code     11158\n",
       "account                  0\n",
       "currency                 0\n",
       "long_lat                 0\n",
       "txn_description          0\n",
       "merchant_id           4326\n",
       "merchant_code        11160\n",
       "first_name               0\n",
       "balance                  0\n",
       "date                     0\n",
       "gender                   0\n",
       "age                      0\n",
       "merchant_suburb       4326\n",
       "merchant_state        4326\n",
       "extraction               0\n",
       "amount                   0\n",
       "transaction_id           0\n",
       "country                  0\n",
       "customer_id              0\n",
       "merchant_long_lat     4326\n",
       "movement                 0\n",
       "dtype: int64"
      ]
     },
     "execution_count": 267,
     "metadata": {},
     "output_type": "execute_result"
    }
   ],
   "source": [
    "df.isnull().sum()"
   ]
  },
  {
   "cell_type": "code",
   "execution_count": 268,
   "metadata": {},
   "outputs": [
    {
     "data": {
      "text/plain": [
       "100"
      ]
     },
     "execution_count": 268,
     "metadata": {},
     "output_type": "execute_result"
    }
   ],
   "source": [
    "df['customer_id'].nunique()"
   ]
  },
  {
   "cell_type": "code",
   "execution_count": 269,
   "metadata": {},
   "outputs": [
    {
     "name": "stdout",
     "output_type": "stream",
     "text": [
      "5 categorical features with missing values\n",
      "2 numerical features with missing values\n"
     ]
    }
   ],
   "source": [
    "NA=df[['card_present_flag','bpay_biller_code','merchant_id','merchant_code','merchant_suburb','merchant_state','merchant_long_lat']]\n",
    "NAcat=NA.select_dtypes(include='object')\n",
    "NAnum=NA.select_dtypes(exclude='object')\n",
    "print(NAcat.shape[1],'categorical features with missing values')\n",
    "print(NAnum.shape[1],'numerical features with missing values')"
   ]
  },
  {
   "cell_type": "code",
   "execution_count": 270,
   "metadata": {},
   "outputs": [],
   "source": [
    "df.drop(['bpay_biller_code','merchant_code'],axis=1,inplace=True)"
   ]
  },
  {
   "cell_type": "code",
   "execution_count": 271,
   "metadata": {},
   "outputs": [
    {
     "name": "stdout",
     "output_type": "stream",
     "text": [
      "<class 'pandas.core.frame.DataFrame'>\n",
      "RangeIndex: 12043 entries, 0 to 12042\n",
      "Data columns (total 21 columns):\n",
      " #   Column             Non-Null Count  Dtype  \n",
      "---  ------             --------------  -----  \n",
      " 0   status             12043 non-null  object \n",
      " 1   card_present_flag  7717 non-null   float64\n",
      " 2   account            12043 non-null  object \n",
      " 3   currency           12043 non-null  object \n",
      " 4   long_lat           12043 non-null  object \n",
      " 5   txn_description    12043 non-null  object \n",
      " 6   merchant_id        7717 non-null   object \n",
      " 7   first_name         12043 non-null  object \n",
      " 8   balance            12043 non-null  float64\n",
      " 9   date               12043 non-null  object \n",
      " 10  gender             12043 non-null  object \n",
      " 11  age                12043 non-null  int64  \n",
      " 12  merchant_suburb    7717 non-null   object \n",
      " 13  merchant_state     7717 non-null   object \n",
      " 14  extraction         12043 non-null  object \n",
      " 15  amount             12043 non-null  float64\n",
      " 16  transaction_id     12043 non-null  object \n",
      " 17  country            12043 non-null  object \n",
      " 18  customer_id        12043 non-null  object \n",
      " 19  merchant_long_lat  7717 non-null   object \n",
      " 20  movement           12043 non-null  object \n",
      "dtypes: float64(3), int64(1), object(17)\n",
      "memory usage: 1.9+ MB\n"
     ]
    }
   ],
   "source": [
    "df.info()"
   ]
  },
  {
   "cell_type": "code",
   "execution_count": 272,
   "metadata": {},
   "outputs": [
    {
     "data": {
      "text/plain": [
       "(12043, 21)"
      ]
     },
     "execution_count": 272,
     "metadata": {},
     "output_type": "execute_result"
    }
   ],
   "source": [
    "df.shape"
   ]
  },
  {
   "cell_type": "code",
   "execution_count": 273,
   "metadata": {},
   "outputs": [],
   "source": [
    "df.dropna(inplace=True)"
   ]
  },
  {
   "cell_type": "code",
   "execution_count": 274,
   "metadata": {},
   "outputs": [
    {
     "data": {
      "text/plain": [
       "(7717, 21)"
      ]
     },
     "execution_count": 274,
     "metadata": {},
     "output_type": "execute_result"
    }
   ],
   "source": [
    "df.shape"
   ]
  },
  {
   "cell_type": "code",
   "execution_count": 275,
   "metadata": {},
   "outputs": [
    {
     "name": "stdout",
     "output_type": "stream",
     "text": [
      "<class 'pandas.core.frame.DataFrame'>\n",
      "Int64Index: 7717 entries, 0 to 12042\n",
      "Data columns (total 21 columns):\n",
      " #   Column             Non-Null Count  Dtype  \n",
      "---  ------             --------------  -----  \n",
      " 0   status             7717 non-null   object \n",
      " 1   card_present_flag  7717 non-null   float64\n",
      " 2   account            7717 non-null   object \n",
      " 3   currency           7717 non-null   object \n",
      " 4   long_lat           7717 non-null   object \n",
      " 5   txn_description    7717 non-null   object \n",
      " 6   merchant_id        7717 non-null   object \n",
      " 7   first_name         7717 non-null   object \n",
      " 8   balance            7717 non-null   float64\n",
      " 9   date               7717 non-null   object \n",
      " 10  gender             7717 non-null   object \n",
      " 11  age                7717 non-null   int64  \n",
      " 12  merchant_suburb    7717 non-null   object \n",
      " 13  merchant_state     7717 non-null   object \n",
      " 14  extraction         7717 non-null   object \n",
      " 15  amount             7717 non-null   float64\n",
      " 16  transaction_id     7717 non-null   object \n",
      " 17  country            7717 non-null   object \n",
      " 18  customer_id        7717 non-null   object \n",
      " 19  merchant_long_lat  7717 non-null   object \n",
      " 20  movement           7717 non-null   object \n",
      "dtypes: float64(3), int64(1), object(17)\n",
      "memory usage: 1.3+ MB\n"
     ]
    }
   ],
   "source": [
    "df.info()"
   ]
  },
  {
   "cell_type": "code",
   "execution_count": 174,
   "metadata": {},
   "outputs": [
    {
     "ename": "KeyError",
     "evalue": "\"['cat_status'] not found in axis\"",
     "output_type": "error",
     "traceback": [
      "\u001b[0;31m---------------------------------------------------------------------------\u001b[0m",
      "\u001b[0;31mKeyError\u001b[0m                                  Traceback (most recent call last)",
      "\u001b[0;32m<ipython-input-174-5dda6e4105b2>\u001b[0m in \u001b[0;36m<module>\u001b[0;34m\u001b[0m\n\u001b[0;32m----> 1\u001b[0;31m \u001b[0mdf\u001b[0m\u001b[0;34m.\u001b[0m\u001b[0mdrop\u001b[0m\u001b[0;34m(\u001b[0m\u001b[0;34m[\u001b[0m\u001b[0;34m'cat_status'\u001b[0m\u001b[0;34m]\u001b[0m\u001b[0;34m,\u001b[0m \u001b[0maxis\u001b[0m\u001b[0;34m=\u001b[0m\u001b[0;36m1\u001b[0m\u001b[0;34m,\u001b[0m \u001b[0minplace\u001b[0m\u001b[0;34m=\u001b[0m\u001b[0;32mTrue\u001b[0m\u001b[0;34m)\u001b[0m\u001b[0;34m\u001b[0m\u001b[0;34m\u001b[0m\u001b[0m\n\u001b[0m",
      "\u001b[0;32m~/anaconda3/lib/python3.7/site-packages/pandas/core/frame.py\u001b[0m in \u001b[0;36mdrop\u001b[0;34m(self, labels, axis, index, columns, level, inplace, errors)\u001b[0m\n\u001b[1;32m   3995\u001b[0m             \u001b[0mlevel\u001b[0m\u001b[0;34m=\u001b[0m\u001b[0mlevel\u001b[0m\u001b[0;34m,\u001b[0m\u001b[0;34m\u001b[0m\u001b[0;34m\u001b[0m\u001b[0m\n\u001b[1;32m   3996\u001b[0m             \u001b[0minplace\u001b[0m\u001b[0;34m=\u001b[0m\u001b[0minplace\u001b[0m\u001b[0;34m,\u001b[0m\u001b[0;34m\u001b[0m\u001b[0;34m\u001b[0m\u001b[0m\n\u001b[0;32m-> 3997\u001b[0;31m             \u001b[0merrors\u001b[0m\u001b[0;34m=\u001b[0m\u001b[0merrors\u001b[0m\u001b[0;34m,\u001b[0m\u001b[0;34m\u001b[0m\u001b[0;34m\u001b[0m\u001b[0m\n\u001b[0m\u001b[1;32m   3998\u001b[0m         )\n\u001b[1;32m   3999\u001b[0m \u001b[0;34m\u001b[0m\u001b[0m\n",
      "\u001b[0;32m~/anaconda3/lib/python3.7/site-packages/pandas/core/generic.py\u001b[0m in \u001b[0;36mdrop\u001b[0;34m(self, labels, axis, index, columns, level, inplace, errors)\u001b[0m\n\u001b[1;32m   3934\u001b[0m         \u001b[0;32mfor\u001b[0m \u001b[0maxis\u001b[0m\u001b[0;34m,\u001b[0m \u001b[0mlabels\u001b[0m \u001b[0;32min\u001b[0m \u001b[0maxes\u001b[0m\u001b[0;34m.\u001b[0m\u001b[0mitems\u001b[0m\u001b[0;34m(\u001b[0m\u001b[0;34m)\u001b[0m\u001b[0;34m:\u001b[0m\u001b[0;34m\u001b[0m\u001b[0;34m\u001b[0m\u001b[0m\n\u001b[1;32m   3935\u001b[0m             \u001b[0;32mif\u001b[0m \u001b[0mlabels\u001b[0m \u001b[0;32mis\u001b[0m \u001b[0;32mnot\u001b[0m \u001b[0;32mNone\u001b[0m\u001b[0;34m:\u001b[0m\u001b[0;34m\u001b[0m\u001b[0;34m\u001b[0m\u001b[0m\n\u001b[0;32m-> 3936\u001b[0;31m                 \u001b[0mobj\u001b[0m \u001b[0;34m=\u001b[0m \u001b[0mobj\u001b[0m\u001b[0;34m.\u001b[0m\u001b[0m_drop_axis\u001b[0m\u001b[0;34m(\u001b[0m\u001b[0mlabels\u001b[0m\u001b[0;34m,\u001b[0m \u001b[0maxis\u001b[0m\u001b[0;34m,\u001b[0m \u001b[0mlevel\u001b[0m\u001b[0;34m=\u001b[0m\u001b[0mlevel\u001b[0m\u001b[0;34m,\u001b[0m \u001b[0merrors\u001b[0m\u001b[0;34m=\u001b[0m\u001b[0merrors\u001b[0m\u001b[0;34m)\u001b[0m\u001b[0;34m\u001b[0m\u001b[0;34m\u001b[0m\u001b[0m\n\u001b[0m\u001b[1;32m   3937\u001b[0m \u001b[0;34m\u001b[0m\u001b[0m\n\u001b[1;32m   3938\u001b[0m         \u001b[0;32mif\u001b[0m \u001b[0minplace\u001b[0m\u001b[0;34m:\u001b[0m\u001b[0;34m\u001b[0m\u001b[0;34m\u001b[0m\u001b[0m\n",
      "\u001b[0;32m~/anaconda3/lib/python3.7/site-packages/pandas/core/generic.py\u001b[0m in \u001b[0;36m_drop_axis\u001b[0;34m(self, labels, axis, level, errors)\u001b[0m\n\u001b[1;32m   3968\u001b[0m                 \u001b[0mnew_axis\u001b[0m \u001b[0;34m=\u001b[0m \u001b[0maxis\u001b[0m\u001b[0;34m.\u001b[0m\u001b[0mdrop\u001b[0m\u001b[0;34m(\u001b[0m\u001b[0mlabels\u001b[0m\u001b[0;34m,\u001b[0m \u001b[0mlevel\u001b[0m\u001b[0;34m=\u001b[0m\u001b[0mlevel\u001b[0m\u001b[0;34m,\u001b[0m \u001b[0merrors\u001b[0m\u001b[0;34m=\u001b[0m\u001b[0merrors\u001b[0m\u001b[0;34m)\u001b[0m\u001b[0;34m\u001b[0m\u001b[0;34m\u001b[0m\u001b[0m\n\u001b[1;32m   3969\u001b[0m             \u001b[0;32melse\u001b[0m\u001b[0;34m:\u001b[0m\u001b[0;34m\u001b[0m\u001b[0;34m\u001b[0m\u001b[0m\n\u001b[0;32m-> 3970\u001b[0;31m                 \u001b[0mnew_axis\u001b[0m \u001b[0;34m=\u001b[0m \u001b[0maxis\u001b[0m\u001b[0;34m.\u001b[0m\u001b[0mdrop\u001b[0m\u001b[0;34m(\u001b[0m\u001b[0mlabels\u001b[0m\u001b[0;34m,\u001b[0m \u001b[0merrors\u001b[0m\u001b[0;34m=\u001b[0m\u001b[0merrors\u001b[0m\u001b[0;34m)\u001b[0m\u001b[0;34m\u001b[0m\u001b[0;34m\u001b[0m\u001b[0m\n\u001b[0m\u001b[1;32m   3971\u001b[0m             \u001b[0mresult\u001b[0m \u001b[0;34m=\u001b[0m \u001b[0mself\u001b[0m\u001b[0;34m.\u001b[0m\u001b[0mreindex\u001b[0m\u001b[0;34m(\u001b[0m\u001b[0;34m**\u001b[0m\u001b[0;34m{\u001b[0m\u001b[0maxis_name\u001b[0m\u001b[0;34m:\u001b[0m \u001b[0mnew_axis\u001b[0m\u001b[0;34m}\u001b[0m\u001b[0;34m)\u001b[0m\u001b[0;34m\u001b[0m\u001b[0;34m\u001b[0m\u001b[0m\n\u001b[1;32m   3972\u001b[0m \u001b[0;34m\u001b[0m\u001b[0m\n",
      "\u001b[0;32m~/anaconda3/lib/python3.7/site-packages/pandas/core/indexes/base.py\u001b[0m in \u001b[0;36mdrop\u001b[0;34m(self, labels, errors)\u001b[0m\n\u001b[1;32m   5016\u001b[0m         \u001b[0;32mif\u001b[0m \u001b[0mmask\u001b[0m\u001b[0;34m.\u001b[0m\u001b[0many\u001b[0m\u001b[0;34m(\u001b[0m\u001b[0;34m)\u001b[0m\u001b[0;34m:\u001b[0m\u001b[0;34m\u001b[0m\u001b[0;34m\u001b[0m\u001b[0m\n\u001b[1;32m   5017\u001b[0m             \u001b[0;32mif\u001b[0m \u001b[0merrors\u001b[0m \u001b[0;34m!=\u001b[0m \u001b[0;34m\"ignore\"\u001b[0m\u001b[0;34m:\u001b[0m\u001b[0;34m\u001b[0m\u001b[0;34m\u001b[0m\u001b[0m\n\u001b[0;32m-> 5018\u001b[0;31m                 \u001b[0;32mraise\u001b[0m \u001b[0mKeyError\u001b[0m\u001b[0;34m(\u001b[0m\u001b[0;34mf\"{labels[mask]} not found in axis\"\u001b[0m\u001b[0;34m)\u001b[0m\u001b[0;34m\u001b[0m\u001b[0;34m\u001b[0m\u001b[0m\n\u001b[0m\u001b[1;32m   5019\u001b[0m             \u001b[0mindexer\u001b[0m \u001b[0;34m=\u001b[0m \u001b[0mindexer\u001b[0m\u001b[0;34m[\u001b[0m\u001b[0;34m~\u001b[0m\u001b[0mmask\u001b[0m\u001b[0;34m]\u001b[0m\u001b[0;34m\u001b[0m\u001b[0;34m\u001b[0m\u001b[0m\n\u001b[1;32m   5020\u001b[0m         \u001b[0;32mreturn\u001b[0m \u001b[0mself\u001b[0m\u001b[0;34m.\u001b[0m\u001b[0mdelete\u001b[0m\u001b[0;34m(\u001b[0m\u001b[0mindexer\u001b[0m\u001b[0;34m)\u001b[0m\u001b[0;34m\u001b[0m\u001b[0;34m\u001b[0m\u001b[0m\n",
      "\u001b[0;31mKeyError\u001b[0m: \"['cat_status'] not found in axis\""
     ]
    }
   ],
   "source": [
    "df.drop(['cat_status'], axis=1, inplace=True)"
   ]
  },
  {
   "cell_type": "code",
   "execution_count": 276,
   "metadata": {},
   "outputs": [
    {
     "data": {
      "text/plain": [
       "(7717, 21)"
      ]
     },
     "execution_count": 276,
     "metadata": {},
     "output_type": "execute_result"
    }
   ],
   "source": [
    "df.shape"
   ]
  },
  {
   "cell_type": "code",
   "execution_count": 277,
   "metadata": {},
   "outputs": [
    {
     "data": {
      "text/plain": [
       "[<matplotlib.lines.Line2D at 0x7fb672c2d6d0>]"
      ]
     },
     "execution_count": 277,
     "metadata": {},
     "output_type": "execute_result"
    },
    {
     "data": {
      "image/png": "[encoded data removed]",
      "text/plain": [
       "<Figure size 432x288 with 1 Axes>"
      ]
     },
     "metadata": {
      "needs_background": "light"
     },
     "output_type": "display_data"
    }
   ],
   "source": [
    "plt.plot(df.status)"
   ]
  },
  {
   "cell_type": "code",
   "execution_count": 278,
   "metadata": {},
   "outputs": [],
   "source": [
    "df.drop(['status'], axis=1, inplace=True)"
   ]
  },
  {
   "cell_type": "code",
   "execution_count": 279,
   "metadata": {},
   "outputs": [
    {
     "data": {
      "text/plain": [
       "(7717, 20)"
      ]
     },
     "execution_count": 279,
     "metadata": {},
     "output_type": "execute_result"
    }
   ],
   "source": [
    "df.shape"
   ]
  },
  {
   "cell_type": "code",
   "execution_count": 280,
   "metadata": {},
   "outputs": [
    {
     "data": {
      "text/plain": [
       "1.0    6194\n",
       "0.0    1523\n",
       "Name: card_present_flag, dtype: int64"
      ]
     },
     "execution_count": 280,
     "metadata": {},
     "output_type": "execute_result"
    }
   ],
   "source": [
    "df.card_present_flag.value_counts()"
   ]
  },
  {
   "cell_type": "code",
   "execution_count": 281,
   "metadata": {},
   "outputs": [
    {
     "data": {
      "text/plain": [
       "(array([1523.,    0.,    0.,    0.,    0.,    0.,    0.,    0.,    0.,\n",
       "        6194.]),\n",
       " array([0. , 0.1, 0.2, 0.3, 0.4, 0.5, 0.6, 0.7, 0.8, 0.9, 1. ]),\n",
       " <a list of 10 Patch objects>)"
      ]
     },
     "execution_count": 281,
     "metadata": {},
     "output_type": "execute_result"
    },
    {
     "data": {
      "image/png": "[encoded data removed]",
      "text/plain": [
       "<Figure size 432x288 with 1 Axes>"
      ]
     },
     "metadata": {
      "needs_background": "light"
     },
     "output_type": "display_data"
    }
   ],
   "source": [
    "plt.hist(df.card_present_flag)"
   ]
  },
  {
   "cell_type": "code",
   "execution_count": 282,
   "metadata": {},
   "outputs": [
    {
     "data": {
      "text/plain": [
       "ACC-1598451071    531\n",
       "ACC-1222300524    276\n",
       "ACC-182446574     248\n",
       "ACC-1037050564    220\n",
       "ACC-1903037542    206\n",
       "                 ... \n",
       "ACC-4059612845      9\n",
       "ACC-4281711154      9\n",
       "ACC-4163822186      4\n",
       "ACC-1650504218      4\n",
       "ACC-721712940       3\n",
       "Name: account, Length: 100, dtype: int64"
      ]
     },
     "execution_count": 282,
     "metadata": {},
     "output_type": "execute_result"
    }
   ],
   "source": [
    "df.account.value_counts()"
   ]
  },
  {
   "cell_type": "code",
   "execution_count": 283,
   "metadata": {},
   "outputs": [],
   "source": [
    "df.drop(['account'], axis=1, inplace=True)"
   ]
  },
  {
   "cell_type": "code",
   "execution_count": 284,
   "metadata": {},
   "outputs": [
    {
     "data": {
      "text/plain": [
       "(7717, 19)"
      ]
     },
     "execution_count": 284,
     "metadata": {},
     "output_type": "execute_result"
    }
   ],
   "source": [
    "df.shape"
   ]
  },
  {
   "cell_type": "code",
   "execution_count": 285,
   "metadata": {},
   "outputs": [
    {
     "data": {
      "text/plain": [
       "AUD    7717\n",
       "Name: currency, dtype: int64"
      ]
     },
     "execution_count": 285,
     "metadata": {},
     "output_type": "execute_result"
    }
   ],
   "source": [
    "df.currency.value_counts()"
   ]
  },
  {
   "cell_type": "code",
   "execution_count": 286,
   "metadata": {},
   "outputs": [],
   "source": [
    "df.drop(['currency'], axis=1, inplace=True)"
   ]
  },
  {
   "cell_type": "code",
   "execution_count": 287,
   "metadata": {},
   "outputs": [
    {
     "data": {
      "text/plain": [
       "(7717, 18)"
      ]
     },
     "execution_count": 287,
     "metadata": {},
     "output_type": "execute_result"
    }
   ],
   "source": [
    "df.shape"
   ]
  },
  {
   "cell_type": "code",
   "execution_count": 288,
   "metadata": {},
   "outputs": [
    {
     "data": {
      "text/plain": [
       "153.41 -27.95    531\n",
       "151.23 -33.94    276\n",
       "116.06 -32.00    248\n",
       "153.10 -27.66    220\n",
       "153.05 -27.61    206\n",
       "                ... \n",
       "144.98 -37.84      9\n",
       "130.98 -12.49      9\n",
       "145.01 -37.93      4\n",
       "149.03 -34.97      4\n",
       "145.09 -37.82      3\n",
       "Name: long_lat, Length: 100, dtype: int64"
      ]
     },
     "execution_count": 288,
     "metadata": {},
     "output_type": "execute_result"
    }
   ],
   "source": [
    "df.long_lat.value_counts()"
   ]
  },
  {
   "cell_type": "code",
   "execution_count": 289,
   "metadata": {},
   "outputs": [
    {
     "data": {
      "text/html": [
       "<div>\n",
       "<style scoped>\n",
       "    .dataframe tbody tr th:only-of-type {\n",
       "        vertical-align: middle;\n",
       "    }\n",
       "\n",
       "    .dataframe tbody tr th {\n",
       "        vertical-align: top;\n",
       "    }\n",
       "\n",
       "    .dataframe thead th {\n",
       "        text-align: right;\n",
       "    }\n",
       "</style>\n",
       "<table border=\"1\" class=\"dataframe\">\n",
       "  <thead>\n",
       "    <tr style=\"text-align: right;\">\n",
       "      <th></th>\n",
       "      <th>0</th>\n",
       "      <th>1</th>\n",
       "    </tr>\n",
       "  </thead>\n",
       "  <tbody>\n",
       "    <tr>\n",
       "      <th>0</th>\n",
       "      <td>153.41</td>\n",
       "      <td>-27.95</td>\n",
       "    </tr>\n",
       "    <tr>\n",
       "      <th>1</th>\n",
       "      <td>153.41</td>\n",
       "      <td>-27.95</td>\n",
       "    </tr>\n",
       "    <tr>\n",
       "      <th>2</th>\n",
       "      <td>151.23</td>\n",
       "      <td>-33.94</td>\n",
       "    </tr>\n",
       "    <tr>\n",
       "      <th>3</th>\n",
       "      <td>153.10</td>\n",
       "      <td>-27.66</td>\n",
       "    </tr>\n",
       "    <tr>\n",
       "      <th>4</th>\n",
       "      <td>153.41</td>\n",
       "      <td>-27.95</td>\n",
       "    </tr>\n",
       "    <tr>\n",
       "      <th>...</th>\n",
       "      <td>...</td>\n",
       "      <td>...</td>\n",
       "    </tr>\n",
       "    <tr>\n",
       "      <th>12038</th>\n",
       "      <td>149.83</td>\n",
       "      <td>-29.47</td>\n",
       "    </tr>\n",
       "    <tr>\n",
       "      <th>12039</th>\n",
       "      <td>151.22</td>\n",
       "      <td>-33.87</td>\n",
       "    </tr>\n",
       "    <tr>\n",
       "      <th>12040</th>\n",
       "      <td>151.12</td>\n",
       "      <td>-33.89</td>\n",
       "    </tr>\n",
       "    <tr>\n",
       "      <th>12041</th>\n",
       "      <td>144.96</td>\n",
       "      <td>-37.76</td>\n",
       "    </tr>\n",
       "    <tr>\n",
       "      <th>12042</th>\n",
       "      <td>150.92</td>\n",
       "      <td>-33.77</td>\n",
       "    </tr>\n",
       "  </tbody>\n",
       "</table>\n",
       "<p>7717 rows × 2 columns</p>\n",
       "</div>"
      ],
      "text/plain": [
       "            0       1\n",
       "0      153.41  -27.95\n",
       "1      153.41  -27.95\n",
       "2      151.23  -33.94\n",
       "3      153.10  -27.66\n",
       "4      153.41  -27.95\n",
       "...       ...     ...\n",
       "12038  149.83  -29.47\n",
       "12039  151.22  -33.87\n",
       "12040  151.12  -33.89\n",
       "12041  144.96  -37.76\n",
       "12042  150.92  -33.77\n",
       "\n",
       "[7717 rows x 2 columns]"
      ]
     },
     "execution_count": 289,
     "metadata": {},
     "output_type": "execute_result"
    }
   ],
   "source": [
    "co_ordinates = df[\"long_lat\"].str.split(\" \", n = 1, expand = True)\n",
    "co_ordinates"
   ]
  },
  {
   "cell_type": "code",
   "execution_count": 290,
   "metadata": {},
   "outputs": [],
   "source": [
    "df['longitude']=co_ordinates[0]\n",
    "df['latitude']=co_ordinates[1]"
   ]
  },
  {
   "cell_type": "code",
   "execution_count": 291,
   "metadata": {},
   "outputs": [],
   "source": [
    "df['longitude']=df['longitude'].astype(float)\n",
    "df['latitude']=df['latitude'].astype(float)"
   ]
  },
  {
   "cell_type": "code",
   "execution_count": 292,
   "metadata": {},
   "outputs": [
    {
     "name": "stdout",
     "output_type": "stream",
     "text": [
      "<class 'pandas.core.frame.DataFrame'>\n",
      "Int64Index: 7717 entries, 0 to 12042\n",
      "Data columns (total 20 columns):\n",
      " #   Column             Non-Null Count  Dtype  \n",
      "---  ------             --------------  -----  \n",
      " 0   card_present_flag  7717 non-null   float64\n",
      " 1   long_lat           7717 non-null   object \n",
      " 2   txn_description    7717 non-null   object \n",
      " 3   merchant_id        7717 non-null   object \n",
      " 4   first_name         7717 non-null   object \n",
      " 5   balance            7717 non-null   float64\n",
      " 6   date               7717 non-null   object \n",
      " 7   gender             7717 non-null   object \n",
      " 8   age                7717 non-null   int64  \n",
      " 9   merchant_suburb    7717 non-null   object \n",
      " 10  merchant_state     7717 non-null   object \n",
      " 11  extraction         7717 non-null   object \n",
      " 12  amount             7717 non-null   float64\n",
      " 13  transaction_id     7717 non-null   object \n",
      " 14  country            7717 non-null   object \n",
      " 15  customer_id        7717 non-null   object \n",
      " 16  merchant_long_lat  7717 non-null   object \n",
      " 17  movement           7717 non-null   object \n",
      " 18  longitude          7717 non-null   float64\n",
      " 19  latitude           7717 non-null   float64\n",
      "dtypes: float64(5), int64(1), object(14)\n",
      "memory usage: 1.2+ MB\n"
     ]
    }
   ],
   "source": [
    "df.info()"
   ]
  },
  {
   "cell_type": "code",
   "execution_count": 293,
   "metadata": {},
   "outputs": [
    {
     "data": {
      "text/plain": [
       "<matplotlib.axes._subplots.AxesSubplot at 0x7fb672b8ca50>"
      ]
     },
     "execution_count": 293,
     "metadata": {},
     "output_type": "execute_result"
    },
    {
     "data": {
      "image/png": "[encoded data removed]",
      "text/plain": [
       "<Figure size 432x288 with 1 Axes>"
      ]
     },
     "metadata": {
      "needs_background": "light"
     },
     "output_type": "display_data"
    }
   ],
   "source": [
    "df['longitude'].plot(kind='hist')"
   ]
  },
  {
   "cell_type": "code",
   "execution_count": 294,
   "metadata": {},
   "outputs": [
    {
     "data": {
      "text/plain": [
       "<matplotlib.axes._subplots.AxesSubplot at 0x7fb672a48f90>"
      ]
     },
     "execution_count": 294,
     "metadata": {},
     "output_type": "execute_result"
    },
    {
     "data": {
      "image/png": "[encoded data removed]",
      "text/plain": [
       "<Figure size 432x288 with 1 Axes>"
      ]
     },
     "metadata": {
      "needs_background": "light"
     },
     "output_type": "display_data"
    }
   ],
   "source": [
    "df['latitude'].plot(kind='hist')"
   ]
  },
  {
   "cell_type": "code",
   "execution_count": 295,
   "metadata": {},
   "outputs": [],
   "source": [
    "df.drop(['long_lat'],axis=1,inplace=True)"
   ]
  },
  {
   "cell_type": "code",
   "execution_count": 296,
   "metadata": {},
   "outputs": [
    {
     "name": "stdout",
     "output_type": "stream",
     "text": [
      "<class 'pandas.core.frame.DataFrame'>\n",
      "Int64Index: 7717 entries, 0 to 12042\n",
      "Data columns (total 19 columns):\n",
      " #   Column             Non-Null Count  Dtype  \n",
      "---  ------             --------------  -----  \n",
      " 0   card_present_flag  7717 non-null   float64\n",
      " 1   txn_description    7717 non-null   object \n",
      " 2   merchant_id        7717 non-null   object \n",
      " 3   first_name         7717 non-null   object \n",
      " 4   balance            7717 non-null   float64\n",
      " 5   date               7717 non-null   object \n",
      " 6   gender             7717 non-null   object \n",
      " 7   age                7717 non-null   int64  \n",
      " 8   merchant_suburb    7717 non-null   object \n",
      " 9   merchant_state     7717 non-null   object \n",
      " 10  extraction         7717 non-null   object \n",
      " 11  amount             7717 non-null   float64\n",
      " 12  transaction_id     7717 non-null   object \n",
      " 13  country            7717 non-null   object \n",
      " 14  customer_id        7717 non-null   object \n",
      " 15  merchant_long_lat  7717 non-null   object \n",
      " 16  movement           7717 non-null   object \n",
      " 17  longitude          7717 non-null   float64\n",
      " 18  latitude           7717 non-null   float64\n",
      "dtypes: float64(5), int64(1), object(13)\n",
      "memory usage: 1.2+ MB\n"
     ]
    }
   ],
   "source": [
    "df.info()"
   ]
  },
  {
   "cell_type": "code",
   "execution_count": 297,
   "metadata": {},
   "outputs": [
    {
     "data": {
      "text/plain": [
       "SALES-POS    3934\n",
       "POS          3783\n",
       "Name: txn_description, dtype: int64"
      ]
     },
     "execution_count": 297,
     "metadata": {},
     "output_type": "execute_result"
    }
   ],
   "source": [
    "df.txn_description.value_counts()"
   ]
  },
  {
   "cell_type": "code",
   "execution_count": 298,
   "metadata": {},
   "outputs": [
    {
     "data": {
      "text/plain": [
       "(array([3783.,    0.,    0.,    0.,    0.,    0.,    0.,    0.,    0.,\n",
       "        3934.]),\n",
       " array([0. , 0.1, 0.2, 0.3, 0.4, 0.5, 0.6, 0.7, 0.8, 0.9, 1. ]),\n",
       " <a list of 10 Patch objects>)"
      ]
     },
     "execution_count": 298,
     "metadata": {},
     "output_type": "execute_result"
    },
    {
     "data": {
      "image/png": "[encoded data removed]",
      "text/plain": [
       "<Figure size 432x288 with 1 Axes>"
      ]
     },
     "metadata": {
      "needs_background": "light"
     },
     "output_type": "display_data"
    }
   ],
   "source": [
    "plt.hist(df.txn_description)"
   ]
  },
  {
   "cell_type": "code",
   "execution_count": 299,
   "metadata": {},
   "outputs": [],
   "source": [
    "cleanup_txn = {\"txn_description\":{\"POS\": 1, \"SALES-POS\":0}}\n",
    "df.replace(cleanup_txn, inplace=True)"
   ]
  },
  {
   "cell_type": "code",
   "execution_count": 300,
   "metadata": {},
   "outputs": [
    {
     "data": {
      "text/plain": [
       "106e1272-44ab-4dcb-a438-dd98e0071e51    14\n",
       "6c84c219-96ea-4c6f-9de5-0a28bcaec62f    12\n",
       "e28c426d-cbef-4e2d-aa06-1ba0b6b1902f    11\n",
       "6ddddc40-5b69-4253-8a26-167999a8bf96    10\n",
       "aef30de1-c67e-4ab7-8577-2931a4bf3c7e    10\n",
       "                                        ..\n",
       "d8c43a7e-a509-4a25-8070-3a7e18425571     1\n",
       "a08463b0-6be6-478b-abaa-78f23f81c07b     1\n",
       "72b45b15-6d63-44ff-98f0-3c2172a1b723     1\n",
       "a4f2e1b9-aebb-46b8-af8c-063aaf19b013     1\n",
       "b61c0a70-e9d7-4424-b5c3-af399a1e0147     1\n",
       "Name: merchant_id, Length: 5725, dtype: int64"
      ]
     },
     "execution_count": 300,
     "metadata": {},
     "output_type": "execute_result"
    }
   ],
   "source": [
    "df.merchant_id.value_counts()"
   ]
  },
  {
   "cell_type": "code",
   "execution_count": 301,
   "metadata": {},
   "outputs": [],
   "source": [
    "df.drop('merchant_id', axis=1, inplace=True)"
   ]
  },
  {
   "cell_type": "code",
   "execution_count": 302,
   "metadata": {},
   "outputs": [
    {
     "data": {
      "text/plain": [
       "(7717, 18)"
      ]
     },
     "execution_count": 302,
     "metadata": {},
     "output_type": "execute_result"
    }
   ],
   "source": [
    "df.shape"
   ]
  },
  {
   "cell_type": "code",
   "execution_count": 303,
   "metadata": {},
   "outputs": [
    {
     "data": {
      "text/plain": [
       "Diana       531\n",
       "Michael     519\n",
       "Jeffrey     316\n",
       "Joseph      306\n",
       "Jessica     286\n",
       "           ... \n",
       "David        14\n",
       "Jonathan      9\n",
       "Karen         4\n",
       "Marissa       4\n",
       "Andrew        3\n",
       "Name: first_name, Length: 80, dtype: int64"
      ]
     },
     "execution_count": 303,
     "metadata": {},
     "output_type": "execute_result"
    }
   ],
   "source": [
    "df.first_name.value_counts()"
   ]
  },
  {
   "cell_type": "code",
   "execution_count": 304,
   "metadata": {},
   "outputs": [
    {
     "data": {
      "text/plain": [
       "4990.31     2\n",
       "6630.94     2\n",
       "3808.18     2\n",
       "2321.06     2\n",
       "2786.80     2\n",
       "           ..\n",
       "21478.35    1\n",
       "4733.21     1\n",
       "11507.30    1\n",
       "47894.07    1\n",
       "0.25        1\n",
       "Name: balance, Length: 7698, dtype: int64"
      ]
     },
     "execution_count": 304,
     "metadata": {},
     "output_type": "execute_result"
    }
   ],
   "source": [
    "df.balance.value_counts()"
   ]
  },
  {
   "cell_type": "code",
   "execution_count": 305,
   "metadata": {},
   "outputs": [
    {
     "data": {
      "text/plain": [
       "(array([7.117e+03, 3.150e+02, 1.600e+02, 7.000e+00, 2.100e+01, 0.000e+00,\n",
       "        3.000e+00, 7.700e+01, 0.000e+00, 1.700e+01]),\n",
       " array([2.40000000e-01, 2.67095820e+04, 5.34189240e+04, 8.01282660e+04,\n",
       "        1.06837608e+05, 1.33546950e+05, 1.60256292e+05, 1.86965634e+05,\n",
       "        2.13674976e+05, 2.40384318e+05, 2.67093660e+05]),\n",
       " <a list of 10 Patch objects>)"
      ]
     },
     "execution_count": 305,
     "metadata": {},
     "output_type": "execute_result"
    },
    {
     "data": {
      "image/png": "[encoded data removed]",
      "text/plain": [
       "<Figure size 432x288 with 1 Axes>"
      ]
     },
     "metadata": {
      "needs_background": "light"
     },
     "output_type": "display_data"
    }
   ],
   "source": [
    "plt.hist(df.balance)"
   ]
  },
  {
   "cell_type": "code",
   "execution_count": 306,
   "metadata": {},
   "outputs": [],
   "source": [
    "df=df[df['balance']<100000]"
   ]
  },
  {
   "cell_type": "code",
   "execution_count": 307,
   "metadata": {},
   "outputs": [
    {
     "data": {
      "text/plain": [
       "(array([4648., 1648.,  617.,  206.,  112.,   61.,  114.,   40.,   92.,\n",
       "          54.]),\n",
       " array([2.4000000e-01, 6.9646930e+03, 1.3929146e+04, 2.0893599e+04,\n",
       "        2.7858052e+04, 3.4822505e+04, 4.1786958e+04, 4.8751411e+04,\n",
       "        5.5715864e+04, 6.2680317e+04, 6.9644770e+04]),\n",
       " <a list of 10 Patch objects>)"
      ]
     },
     "execution_count": 307,
     "metadata": {},
     "output_type": "execute_result"
    },
    {
     "data": {
      "image/png": "[encoded data removed]",
      "text/plain": [
       "<Figure size 432x288 with 1 Axes>"
      ]
     },
     "metadata": {
      "needs_background": "light"
     },
     "output_type": "display_data"
    }
   ],
   "source": [
    "plt.hist(df.balance)"
   ]
  },
  {
   "cell_type": "code",
   "execution_count": 308,
   "metadata": {},
   "outputs": [
    {
     "data": {
      "text/plain": [
       "9/1/2018      109\n",
       "9/28/2018     108\n",
       "9/21/2018     105\n",
       "8/17/2018     105\n",
       "9/29/2018     104\n",
       "             ... \n",
       "8/6/2018       53\n",
       "10/16/2018     50\n",
       "10/8/2018      49\n",
       "10/30/2018     49\n",
       "10/23/2018     48\n",
       "Name: date, Length: 91, dtype: int64"
      ]
     },
     "execution_count": 308,
     "metadata": {},
     "output_type": "execute_result"
    }
   ],
   "source": [
    "df.date.value_counts()"
   ]
  },
  {
   "cell_type": "code",
   "execution_count": 309,
   "metadata": {},
   "outputs": [],
   "source": [
    "df['date']= pd.to_datetime(df['date']) \n",
    "df['year'] = pd.DatetimeIndex(df['date']).year\n",
    "df['month'] = pd.DatetimeIndex(df['date']).month"
   ]
  },
  {
   "cell_type": "code",
   "execution_count": 310,
   "metadata": {},
   "outputs": [
    {
     "name": "stdout",
     "output_type": "stream",
     "text": [
      "<class 'pandas.core.frame.DataFrame'>\n",
      "Int64Index: 7592 entries, 0 to 12042\n",
      "Data columns (total 20 columns):\n",
      " #   Column             Non-Null Count  Dtype         \n",
      "---  ------             --------------  -----         \n",
      " 0   card_present_flag  7592 non-null   float64       \n",
      " 1   txn_description    7592 non-null   int64         \n",
      " 2   first_name         7592 non-null   object        \n",
      " 3   balance            7592 non-null   float64       \n",
      " 4   date               7592 non-null   datetime64[ns]\n",
      " 5   gender             7592 non-null   object        \n",
      " 6   age                7592 non-null   int64         \n",
      " 7   merchant_suburb    7592 non-null   object        \n",
      " 8   merchant_state     7592 non-null   object        \n",
      " 9   extraction         7592 non-null   object        \n",
      " 10  amount             7592 non-null   float64       \n",
      " 11  transaction_id     7592 non-null   object        \n",
      " 12  country            7592 non-null   object        \n",
      " 13  customer_id        7592 non-null   object        \n",
      " 14  merchant_long_lat  7592 non-null   object        \n",
      " 15  movement           7592 non-null   object        \n",
      " 16  longitude          7592 non-null   float64       \n",
      " 17  latitude           7592 non-null   float64       \n",
      " 18  year               7592 non-null   int64         \n",
      " 19  month              7592 non-null   int64         \n",
      "dtypes: datetime64[ns](1), float64(5), int64(4), object(10)\n",
      "memory usage: 1.2+ MB\n"
     ]
    }
   ],
   "source": [
    "df.info()"
   ]
  },
  {
   "cell_type": "code",
   "execution_count": 311,
   "metadata": {},
   "outputs": [
    {
     "data": {
      "text/plain": [
       "2018    7592\n",
       "Name: year, dtype: int64"
      ]
     },
     "execution_count": 311,
     "metadata": {},
     "output_type": "execute_result"
    }
   ],
   "source": [
    "df.year.value_counts()"
   ]
  },
  {
   "cell_type": "code",
   "execution_count": 312,
   "metadata": {},
   "outputs": [
    {
     "data": {
      "text/plain": [
       "9     2560\n",
       "10    2526\n",
       "8     2506\n",
       "Name: month, dtype: int64"
      ]
     },
     "execution_count": 312,
     "metadata": {},
     "output_type": "execute_result"
    }
   ],
   "source": [
    "df.month.value_counts()"
   ]
  },
  {
   "cell_type": "code",
   "execution_count": 313,
   "metadata": {},
   "outputs": [
    {
     "data": {
      "text/plain": [
       "M    3810\n",
       "F    3782\n",
       "Name: gender, dtype: int64"
      ]
     },
     "execution_count": 313,
     "metadata": {},
     "output_type": "execute_result"
    }
   ],
   "source": [
    "df.gender.value_counts()"
   ]
  },
  {
   "cell_type": "code",
   "execution_count": 314,
   "metadata": {},
   "outputs": [
    {
     "data": {
      "text/plain": [
       "(array([3782.,    0.,    0.,    0.,    0.,    0.,    0.,    0.,    0.,\n",
       "        3810.]),\n",
       " array([0. , 0.1, 0.2, 0.3, 0.4, 0.5, 0.6, 0.7, 0.8, 0.9, 1. ]),\n",
       " <a list of 10 Patch objects>)"
      ]
     },
     "execution_count": 314,
     "metadata": {},
     "output_type": "execute_result"
    },
    {
     "data": {
      "image/png": "[encoded data removed]",
      "text/plain": [
       "<Figure size 432x288 with 1 Axes>"
      ]
     },
     "metadata": {
      "needs_background": "light"
     },
     "output_type": "display_data"
    }
   ],
   "source": [
    "plt.hist(df.gender)"
   ]
  },
  {
   "cell_type": "code",
   "execution_count": 315,
   "metadata": {},
   "outputs": [],
   "source": [
    "cleanup_gender = {'gender':{'F':0, 'M':1}}\n",
    "df.replace(cleanup_gender, inplace=True)"
   ]
  },
  {
   "cell_type": "code",
   "execution_count": 316,
   "metadata": {},
   "outputs": [
    {
     "data": {
      "text/plain": [
       "(array([2045., 2252., 1207., 1328.,  523.,  122.,    0.,   59.,   53.,\n",
       "           3.]),\n",
       " array([18., 24., 30., 36., 42., 48., 54., 60., 66., 72., 78.]),\n",
       " <a list of 10 Patch objects>)"
      ]
     },
     "execution_count": 316,
     "metadata": {},
     "output_type": "execute_result"
    },
    {
     "data": {
      "image/png": "[encoded data removed]",
      "text/plain": [
       "<Figure size 432x288 with 1 Axes>"
      ]
     },
     "metadata": {
      "needs_background": "light"
     },
     "output_type": "display_data"
    }
   ],
   "source": [
    "plt.hist(df.age)"
   ]
  },
  {
   "cell_type": "code",
   "execution_count": 317,
   "metadata": {},
   "outputs": [
    {
     "data": {
      "text/plain": [
       "1587"
      ]
     },
     "execution_count": 317,
     "metadata": {},
     "output_type": "execute_result"
    }
   ],
   "source": [
    "df['merchant_suburb'].nunique()"
   ]
  },
  {
   "cell_type": "code",
   "execution_count": 318,
   "metadata": {},
   "outputs": [
    {
     "data": {
      "text/plain": [
       "NSW    2153\n",
       "VIC    2044\n",
       "QLD    1538\n",
       "WA     1100\n",
       "SA      414\n",
       "NT      205\n",
       "ACT      73\n",
       "TAS      65\n",
       "Name: merchant_state, dtype: int64"
      ]
     },
     "execution_count": 318,
     "metadata": {},
     "output_type": "execute_result"
    }
   ],
   "source": [
    "df['merchant_state'].value_counts()"
   ]
  },
  {
   "cell_type": "code",
   "execution_count": 319,
   "metadata": {},
   "outputs": [
    {
     "data": {
      "text/plain": [
       "2018-10-17T04:07:35.000+0000    1\n",
       "2018-10-03T11:36:08.000+0000    1\n",
       "2018-10-07T21:58:35.000+0000    1\n",
       "2018-10-14T13:03:51.000+0000    1\n",
       "2018-10-23T09:38:00.000+0000    1\n",
       "                               ..\n",
       "2018-10-26T13:05:39.000+0000    1\n",
       "2018-08-08T15:19:24.000+0000    1\n",
       "2018-10-29T13:31:21.000+0000    1\n",
       "2018-10-14T21:16:46.000+0000    1\n",
       "2018-09-28T16:00:39.000+0000    1\n",
       "Name: extraction, Length: 7592, dtype: int64"
      ]
     },
     "execution_count": 319,
     "metadata": {},
     "output_type": "execute_result"
    }
   ],
   "source": [
    "df.extraction.value_counts()"
   ]
  },
  {
   "cell_type": "code",
   "execution_count": 320,
   "metadata": {},
   "outputs": [],
   "source": [
    "df.drop(['extraction'],axis=1,inplace=True)"
   ]
  },
  {
   "cell_type": "code",
   "execution_count": 321,
   "metadata": {},
   "outputs": [
    {
     "data": {
      "text/plain": [
       "(array([7.556e+03, 2.500e+01, 5.000e+00, 1.000e+00, 1.000e+00, 3.000e+00,\n",
       "        0.000e+00, 0.000e+00, 0.000e+00, 1.000e+00]),\n",
       " array([1.000000e-01, 7.081990e+02, 1.416298e+03, 2.124397e+03,\n",
       "        2.832496e+03, 3.540595e+03, 4.248694e+03, 4.956793e+03,\n",
       "        5.664892e+03, 6.372991e+03, 7.081090e+03]),\n",
       " <a list of 10 Patch objects>)"
      ]
     },
     "execution_count": 321,
     "metadata": {},
     "output_type": "execute_result"
    },
    {
     "data": {
      "image/png": "[encoded data removed]",
      "text/plain": [
       "<Figure size 432x288 with 1 Axes>"
      ]
     },
     "metadata": {
      "needs_background": "light"
     },
     "output_type": "display_data"
    }
   ],
   "source": [
    "plt.hist(df.amount)"
   ]
  },
  {
   "cell_type": "code",
   "execution_count": 322,
   "metadata": {},
   "outputs": [
    {
     "data": {
      "text/plain": [
       "7081.09"
      ]
     },
     "execution_count": 322,
     "metadata": {},
     "output_type": "execute_result"
    }
   ],
   "source": [
    "df.amount.max()"
   ]
  },
  {
   "cell_type": "code",
   "execution_count": 323,
   "metadata": {},
   "outputs": [
    {
     "data": {
      "text/plain": [
       "0.1"
      ]
     },
     "execution_count": 323,
     "metadata": {},
     "output_type": "execute_result"
    }
   ],
   "source": [
    "df.amount.min()"
   ]
  },
  {
   "cell_type": "code",
   "execution_count": 324,
   "metadata": {},
   "outputs": [
    {
     "data": {
      "text/plain": [
       "count    7592.000000\n",
       "mean       39.738494\n",
       "std       149.236864\n",
       "min         0.100000\n",
       "50%        19.510000\n",
       "80%        38.868000\n",
       "90%        60.469000\n",
       "99%       377.877300\n",
       "max      7081.090000\n",
       "Name: amount, dtype: float64"
      ]
     },
     "execution_count": 324,
     "metadata": {},
     "output_type": "execute_result"
    }
   ],
   "source": [
    "perc =[.80,.90,.99] \n",
    "df.amount.describe(percentiles=perc)"
   ]
  },
  {
   "cell_type": "code",
   "execution_count": 325,
   "metadata": {},
   "outputs": [],
   "source": [
    "df=df[df['amount']<378]"
   ]
  },
  {
   "cell_type": "code",
   "execution_count": 326,
   "metadata": {},
   "outputs": [
    {
     "data": {
      "text/plain": [
       "421ae381279443fbab8ee5655071a78d    1\n",
       "25b1aca58a2441aab0bcb0474437d4aa    1\n",
       "9c0d93fddec743b0bbb4eaef19345679    1\n",
       "52b0671095764373a909c3f0993984f2    1\n",
       "9ccf19960ede4002968ea7ebb34dcf62    1\n",
       "                                   ..\n",
       "02729a53617d48728b512a4de88034ce    1\n",
       "d59e4d5cf89b4f8fa20317a2a9f89fbf    1\n",
       "08e43778fff94f0382b1323688d95589    1\n",
       "44f119b4df9a4f2d8b9f02025b074b2e    1\n",
       "268f53ff6a384304ad9b2b9bc1eb0292    1\n",
       "Name: transaction_id, Length: 7516, dtype: int64"
      ]
     },
     "execution_count": 326,
     "metadata": {},
     "output_type": "execute_result"
    }
   ],
   "source": [
    "df['transaction_id'].value_counts()"
   ]
  },
  {
   "cell_type": "code",
   "execution_count": 327,
   "metadata": {},
   "outputs": [],
   "source": [
    "df.drop(['transaction_id'],axis=1,inplace=True)"
   ]
  },
  {
   "cell_type": "code",
   "execution_count": 328,
   "metadata": {},
   "outputs": [
    {
     "data": {
      "text/plain": [
       "Australia    7516\n",
       "Name: country, dtype: int64"
      ]
     },
     "execution_count": 328,
     "metadata": {},
     "output_type": "execute_result"
    }
   ],
   "source": [
    "df['country'].value_counts()"
   ]
  },
  {
   "cell_type": "code",
   "execution_count": 329,
   "metadata": {},
   "outputs": [],
   "source": [
    "df.drop(['country'],axis=1,inplace=True)"
   ]
  },
  {
   "cell_type": "code",
   "execution_count": 330,
   "metadata": {},
   "outputs": [
    {
     "data": {
      "text/plain": [
       "CUS-2487424745    529\n",
       "CUS-2142601169    272\n",
       "CUS-3026014945    247\n",
       "CUS-1614226872    220\n",
       "CUS-860700529     205\n",
       "                 ... \n",
       "CUS-495599312       9\n",
       "CUS-3151318058      8\n",
       "CUS-2500783281      4\n",
       "CUS-2630892467      4\n",
       "CUS-1646183815      3\n",
       "Name: customer_id, Length: 97, dtype: int64"
      ]
     },
     "execution_count": 330,
     "metadata": {},
     "output_type": "execute_result"
    }
   ],
   "source": [
    "df['customer_id'].value_counts()"
   ]
  },
  {
   "cell_type": "code",
   "execution_count": 331,
   "metadata": {},
   "outputs": [],
   "source": [
    "df.drop(['customer_id'],axis=1,inplace=True)"
   ]
  },
  {
   "cell_type": "code",
   "execution_count": 332,
   "metadata": {},
   "outputs": [
    {
     "data": {
      "text/plain": [
       "151.21 -33.87    137\n",
       "144.96 -37.82     82\n",
       "144.97 -37.81     58\n",
       "144.96 -37.81     56\n",
       "153.02 -27.47     46\n",
       "                ... \n",
       "153.04 -27.56      1\n",
       "138.59 -34.97      1\n",
       "153.37 -28.05      1\n",
       "153.02 -26.69      1\n",
       "151.03 -33.75      1\n",
       "Name: merchant_long_lat, Length: 2651, dtype: int64"
      ]
     },
     "execution_count": 332,
     "metadata": {},
     "output_type": "execute_result"
    }
   ],
   "source": [
    "df['merchant_long_lat'].value_counts()"
   ]
  },
  {
   "cell_type": "code",
   "execution_count": 333,
   "metadata": {},
   "outputs": [],
   "source": [
    "df.drop(['merchant_long_lat'],axis=1,inplace=True)"
   ]
  },
  {
   "cell_type": "code",
   "execution_count": 334,
   "metadata": {},
   "outputs": [
    {
     "data": {
      "text/plain": [
       "debit    7516\n",
       "Name: movement, dtype: int64"
      ]
     },
     "execution_count": 334,
     "metadata": {},
     "output_type": "execute_result"
    }
   ],
   "source": [
    "df['movement'].value_counts()"
   ]
  },
  {
   "cell_type": "code",
   "execution_count": 335,
   "metadata": {},
   "outputs": [],
   "source": [
    "df.drop(['movement'],axis=1,inplace=True)"
   ]
  },
  {
   "cell_type": "code",
   "execution_count": 336,
   "metadata": {},
   "outputs": [],
   "source": [
    "df.drop('year', axis=1, inplace=True)"
   ]
  },
  {
   "cell_type": "code",
   "execution_count": 337,
   "metadata": {},
   "outputs": [],
   "source": [
    "df.drop('date', axis=1, inplace=True)"
   ]
  },
  {
   "cell_type": "code",
   "execution_count": 338,
   "metadata": {},
   "outputs": [
    {
     "data": {
      "text/html": [
       "<div>\n",
       "<style scoped>\n",
       "    .dataframe tbody tr th:only-of-type {\n",
       "        vertical-align: middle;\n",
       "    }\n",
       "\n",
       "    .dataframe tbody tr th {\n",
       "        vertical-align: top;\n",
       "    }\n",
       "\n",
       "    .dataframe thead th {\n",
       "        text-align: right;\n",
       "    }\n",
       "</style>\n",
       "<table border=\"1\" class=\"dataframe\">\n",
       "  <thead>\n",
       "    <tr style=\"text-align: right;\">\n",
       "      <th></th>\n",
       "      <th>card_present_flag</th>\n",
       "      <th>txn_description</th>\n",
       "      <th>first_name</th>\n",
       "      <th>balance</th>\n",
       "      <th>gender</th>\n",
       "      <th>age</th>\n",
       "      <th>merchant_suburb</th>\n",
       "      <th>merchant_state</th>\n",
       "      <th>amount</th>\n",
       "      <th>longitude</th>\n",
       "      <th>latitude</th>\n",
       "      <th>month</th>\n",
       "    </tr>\n",
       "  </thead>\n",
       "  <tbody>\n",
       "    <tr>\n",
       "      <th>0</th>\n",
       "      <td>1.0</td>\n",
       "      <td>1</td>\n",
       "      <td>Diana</td>\n",
       "      <td>35.39</td>\n",
       "      <td>0</td>\n",
       "      <td>26</td>\n",
       "      <td>Ashmore</td>\n",
       "      <td>QLD</td>\n",
       "      <td>16.25</td>\n",
       "      <td>153.41</td>\n",
       "      <td>-27.95</td>\n",
       "      <td>8</td>\n",
       "    </tr>\n",
       "    <tr>\n",
       "      <th>1</th>\n",
       "      <td>0.0</td>\n",
       "      <td>0</td>\n",
       "      <td>Diana</td>\n",
       "      <td>21.20</td>\n",
       "      <td>0</td>\n",
       "      <td>26</td>\n",
       "      <td>Sydney</td>\n",
       "      <td>NSW</td>\n",
       "      <td>14.19</td>\n",
       "      <td>153.41</td>\n",
       "      <td>-27.95</td>\n",
       "      <td>8</td>\n",
       "    </tr>\n",
       "    <tr>\n",
       "      <th>2</th>\n",
       "      <td>1.0</td>\n",
       "      <td>1</td>\n",
       "      <td>Michael</td>\n",
       "      <td>5.71</td>\n",
       "      <td>1</td>\n",
       "      <td>38</td>\n",
       "      <td>Sydney</td>\n",
       "      <td>NSW</td>\n",
       "      <td>6.42</td>\n",
       "      <td>151.23</td>\n",
       "      <td>-33.94</td>\n",
       "      <td>8</td>\n",
       "    </tr>\n",
       "    <tr>\n",
       "      <th>3</th>\n",
       "      <td>1.0</td>\n",
       "      <td>0</td>\n",
       "      <td>Rhonda</td>\n",
       "      <td>2117.22</td>\n",
       "      <td>0</td>\n",
       "      <td>40</td>\n",
       "      <td>Buderim</td>\n",
       "      <td>QLD</td>\n",
       "      <td>40.90</td>\n",
       "      <td>153.10</td>\n",
       "      <td>-27.66</td>\n",
       "      <td>8</td>\n",
       "    </tr>\n",
       "    <tr>\n",
       "      <th>4</th>\n",
       "      <td>1.0</td>\n",
       "      <td>0</td>\n",
       "      <td>Diana</td>\n",
       "      <td>17.95</td>\n",
       "      <td>0</td>\n",
       "      <td>26</td>\n",
       "      <td>Mermaid Beach</td>\n",
       "      <td>QLD</td>\n",
       "      <td>3.25</td>\n",
       "      <td>153.41</td>\n",
       "      <td>-27.95</td>\n",
       "      <td>8</td>\n",
       "    </tr>\n",
       "  </tbody>\n",
       "</table>\n",
       "</div>"
      ],
      "text/plain": [
       "   card_present_flag  txn_description first_name  balance  gender  age  \\\n",
       "0                1.0                1      Diana    35.39       0   26   \n",
       "1                0.0                0      Diana    21.20       0   26   \n",
       "2                1.0                1    Michael     5.71       1   38   \n",
       "3                1.0                0     Rhonda  2117.22       0   40   \n",
       "4                1.0                0      Diana    17.95       0   26   \n",
       "\n",
       "  merchant_suburb merchant_state  amount  longitude  latitude  month  \n",
       "0         Ashmore            QLD   16.25     153.41    -27.95      8  \n",
       "1          Sydney            NSW   14.19     153.41    -27.95      8  \n",
       "2          Sydney            NSW    6.42     151.23    -33.94      8  \n",
       "3         Buderim            QLD   40.90     153.10    -27.66      8  \n",
       "4   Mermaid Beach            QLD    3.25     153.41    -27.95      8  "
      ]
     },
     "execution_count": 338,
     "metadata": {},
     "output_type": "execute_result"
    }
   ],
   "source": [
    "df.head()"
   ]
  },
  {
   "cell_type": "code",
   "execution_count": 339,
   "metadata": {},
   "outputs": [
    {
     "data": {
      "text/html": [
       "<div>\n",
       "<style scoped>\n",
       "    .dataframe tbody tr th:only-of-type {\n",
       "        vertical-align: middle;\n",
       "    }\n",
       "\n",
       "    .dataframe tbody tr th {\n",
       "        vertical-align: top;\n",
       "    }\n",
       "\n",
       "    .dataframe thead th {\n",
       "        text-align: right;\n",
       "    }\n",
       "</style>\n",
       "<table border=\"1\" class=\"dataframe\">\n",
       "  <thead>\n",
       "    <tr style=\"text-align: right;\">\n",
       "      <th></th>\n",
       "      <th>card_present_flag</th>\n",
       "      <th>txn_description</th>\n",
       "      <th>balance</th>\n",
       "      <th>gender</th>\n",
       "      <th>age</th>\n",
       "      <th>amount</th>\n",
       "      <th>longitude</th>\n",
       "      <th>latitude</th>\n",
       "      <th>month</th>\n",
       "    </tr>\n",
       "  </thead>\n",
       "  <tbody>\n",
       "    <tr>\n",
       "      <th>card_present_flag</th>\n",
       "      <td>1.000000</td>\n",
       "      <td>-0.006021</td>\n",
       "      <td>-0.002436</td>\n",
       "      <td>0.000511</td>\n",
       "      <td>-0.008085</td>\n",
       "      <td>-0.001202</td>\n",
       "      <td>-0.010645</td>\n",
       "      <td>0.001070</td>\n",
       "      <td>-0.001662</td>\n",
       "    </tr>\n",
       "    <tr>\n",
       "      <th>txn_description</th>\n",
       "      <td>-0.006021</td>\n",
       "      <td>1.000000</td>\n",
       "      <td>-0.012520</td>\n",
       "      <td>-0.015362</td>\n",
       "      <td>0.000782</td>\n",
       "      <td>-0.020087</td>\n",
       "      <td>-0.008354</td>\n",
       "      <td>0.004817</td>\n",
       "      <td>0.005620</td>\n",
       "    </tr>\n",
       "    <tr>\n",
       "      <th>balance</th>\n",
       "      <td>-0.002436</td>\n",
       "      <td>-0.012520</td>\n",
       "      <td>1.000000</td>\n",
       "      <td>0.225084</td>\n",
       "      <td>0.033425</td>\n",
       "      <td>0.075426</td>\n",
       "      <td>-0.072155</td>\n",
       "      <td>0.014728</td>\n",
       "      <td>0.181159</td>\n",
       "    </tr>\n",
       "    <tr>\n",
       "      <th>gender</th>\n",
       "      <td>0.000511</td>\n",
       "      <td>-0.015362</td>\n",
       "      <td>0.225084</td>\n",
       "      <td>1.000000</td>\n",
       "      <td>-0.003537</td>\n",
       "      <td>0.015499</td>\n",
       "      <td>0.192785</td>\n",
       "      <td>-0.110725</td>\n",
       "      <td>0.011094</td>\n",
       "    </tr>\n",
       "    <tr>\n",
       "      <th>age</th>\n",
       "      <td>-0.008085</td>\n",
       "      <td>0.000782</td>\n",
       "      <td>0.033425</td>\n",
       "      <td>-0.003537</td>\n",
       "      <td>1.000000</td>\n",
       "      <td>0.072137</td>\n",
       "      <td>0.062846</td>\n",
       "      <td>0.067668</td>\n",
       "      <td>0.013799</td>\n",
       "    </tr>\n",
       "    <tr>\n",
       "      <th>amount</th>\n",
       "      <td>-0.001202</td>\n",
       "      <td>-0.020087</td>\n",
       "      <td>0.075426</td>\n",
       "      <td>0.015499</td>\n",
       "      <td>0.072137</td>\n",
       "      <td>1.000000</td>\n",
       "      <td>0.062947</td>\n",
       "      <td>-0.087570</td>\n",
       "      <td>0.010401</td>\n",
       "    </tr>\n",
       "    <tr>\n",
       "      <th>longitude</th>\n",
       "      <td>-0.010645</td>\n",
       "      <td>-0.008354</td>\n",
       "      <td>-0.072155</td>\n",
       "      <td>0.192785</td>\n",
       "      <td>0.062846</td>\n",
       "      <td>0.062947</td>\n",
       "      <td>1.000000</td>\n",
       "      <td>-0.669534</td>\n",
       "      <td>-0.003871</td>\n",
       "    </tr>\n",
       "    <tr>\n",
       "      <th>latitude</th>\n",
       "      <td>0.001070</td>\n",
       "      <td>0.004817</td>\n",
       "      <td>0.014728</td>\n",
       "      <td>-0.110725</td>\n",
       "      <td>0.067668</td>\n",
       "      <td>-0.087570</td>\n",
       "      <td>-0.669534</td>\n",
       "      <td>1.000000</td>\n",
       "      <td>0.029406</td>\n",
       "    </tr>\n",
       "    <tr>\n",
       "      <th>month</th>\n",
       "      <td>-0.001662</td>\n",
       "      <td>0.005620</td>\n",
       "      <td>0.181159</td>\n",
       "      <td>0.011094</td>\n",
       "      <td>0.013799</td>\n",
       "      <td>0.010401</td>\n",
       "      <td>-0.003871</td>\n",
       "      <td>0.029406</td>\n",
       "      <td>1.000000</td>\n",
       "    </tr>\n",
       "  </tbody>\n",
       "</table>\n",
       "</div>"
      ],
      "text/plain": [
       "                   card_present_flag  txn_description   balance    gender  \\\n",
       "card_present_flag           1.000000        -0.006021 -0.002436  0.000511   \n",
       "txn_description            -0.006021         1.000000 -0.012520 -0.015362   \n",
       "balance                    -0.002436        -0.012520  1.000000  0.225084   \n",
       "gender                      0.000511        -0.015362  0.225084  1.000000   \n",
       "age                        -0.008085         0.000782  0.033425 -0.003537   \n",
       "amount                     -0.001202        -0.020087  0.075426  0.015499   \n",
       "longitude                  -0.010645        -0.008354 -0.072155  0.192785   \n",
       "latitude                    0.001070         0.004817  0.014728 -0.110725   \n",
       "month                      -0.001662         0.005620  0.181159  0.011094   \n",
       "\n",
       "                        age    amount  longitude  latitude     month  \n",
       "card_present_flag -0.008085 -0.001202  -0.010645  0.001070 -0.001662  \n",
       "txn_description    0.000782 -0.020087  -0.008354  0.004817  0.005620  \n",
       "balance            0.033425  0.075426  -0.072155  0.014728  0.181159  \n",
       "gender            -0.003537  0.015499   0.192785 -0.110725  0.011094  \n",
       "age                1.000000  0.072137   0.062846  0.067668  0.013799  \n",
       "amount             0.072137  1.000000   0.062947 -0.087570  0.010401  \n",
       "longitude          0.062846  0.062947   1.000000 -0.669534 -0.003871  \n",
       "latitude           0.067668 -0.087570  -0.669534  1.000000  0.029406  \n",
       "month              0.013799  0.010401  -0.003871  0.029406  1.000000  "
      ]
     },
     "execution_count": 339,
     "metadata": {},
     "output_type": "execute_result"
    }
   ],
   "source": [
    "corr = df.corr()\n",
    "corr"
   ]
  },
  {
   "cell_type": "code",
   "execution_count": 340,
   "metadata": {},
   "outputs": [],
   "source": [
    "import seaborn as sns"
   ]
  },
  {
   "cell_type": "code",
   "execution_count": 341,
   "metadata": {},
   "outputs": [
    {
     "data": {
      "image/png": "[encoded data removed]",
      "text/plain": [
       "<Figure size 720x504 with 2 Axes>"
      ]
     },
     "metadata": {
      "needs_background": "light"
     },
     "output_type": "display_data"
    }
   ],
   "source": [
    "fig, ax = plt.subplots(figsize=(10,7))\n",
    "sns.heatmap(corr, annot=True)\n",
    "ax.set_xticklabels(ax.get_xticklabels(), rotation=90);\n",
    "plt.show()"
   ]
  },
  {
   "cell_type": "code",
   "execution_count": null,
   "metadata": {},
   "outputs": [],
   "source": []
  }
 ],
 "metadata": {
  "kernelspec": {
   "display_name": "Python 3",
   "language": "python",
   "name": "python3"
  },
  "language_info": {
   "codemirror_mode": {
    "name": "ipython",
    "version": 3
   },
   "file_extension": ".py",
   "mimetype": "text/x-python",
   "name": "python",
   "nbconvert_exporter": "python",
   "pygments_lexer": "ipython3",
   "version": "3.7.6"
  }
 },
 "nbformat": 4,
 "nbformat_minor": 4
}
